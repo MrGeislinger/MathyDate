{
 "cells": [
  {
   "cell_type": "markdown",
   "metadata": {},
   "source": [
    "# Mathematical Date Patterns "
   ]
  },
  {
   "cell_type": "markdown",
   "metadata": {},
   "source": [
    "## Get Today's Date"
   ]
  },
  {
   "cell_type": "code",
   "execution_count": null,
   "metadata": {},
   "outputs": [],
   "source": [
    "# Imports\n",
    "from datetime import date"
   ]
  },
  {
   "cell_type": "code",
   "execution_count": null,
   "metadata": {},
   "outputs": [],
   "source": [
    "# Get today parts as integers\n",
    "today = date.today()\n",
    "year = today.year\n",
    "month = today.month\n",
    "day = today.day\n",
    "\n",
    "# Add leading 0 as format for day and month if single digit\n",
    "date_formats = {}\n",
    "date_formats['day'] = [str(day)] \n",
    "if day < 9:\n",
    "  date_formats['day'].append('0{}'.format(day))\n",
    "\n",
    "date_formats['month'] = [str(month)] \n",
    "if month < 9: \n",
    "  date_formats['month'].append('0{}'.format(month))\n",
    "  \n",
    "# Get full year and last two digits of the year \n",
    "date_formats['year'] = [str(year), str(year % 100)]"
   ]
  },
  {
   "cell_type": "code",
   "execution_count": null,
   "metadata": {},
   "outputs": [],
   "source": [
    "# Create different forms of expressing today's date\n",
    "forms = []\n",
    "for pos_d in range(len(date_formats['day'])):\n",
    "    ref_d = ('day', pos_d)\n",
    "    for pos_m in range(len(date_formats['month'])):\n",
    "        ref_m = ('month', pos_m)\n",
    "        # Only day and month\n",
    "        forms.append([ref_d, ref_m])\n",
    "        forms.append([ref_m, ref_d])\n",
    "        # Now consider year (always at front or end)\n",
    "        for pos_y in range(len(date_formats['year'])):\n",
    "            ref_y = ('year', pos_y)\n",
    "            # Full day, month, and year (year is never in the middle)\n",
    "            forms.append([ref_y, ref_m, ref_d])\n",
    "            forms.append([ref_y, ref_d, ref_m])\n",
    "            forms.append([ref_d, ref_m, ref_y])\n",
    "            forms.append([ref_m, ref_d, ref_y])"
   ]
  }
 ],
 "metadata": {
  "celltoolbar": "Raw Cell Format",
  "kernelspec": {
   "display_name": "Python 3",
   "language": "python",
   "name": "python3"
  },
  "language_info": {
   "codemirror_mode": {
    "name": "ipython",
    "version": 3
   },
   "file_extension": ".py",
   "mimetype": "text/x-python",
   "name": "python",
   "nbconvert_exporter": "python",
   "pygments_lexer": "ipython3",
   "version": "3.5.2"
  }
 },
 "nbformat": 4,
 "nbformat_minor": 2
}
