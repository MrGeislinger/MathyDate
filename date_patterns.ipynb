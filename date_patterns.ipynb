{
 "cells": [
  {
   "cell_type": "markdown",
   "metadata": {},
   "source": [
    "# Mathematical Date Patterns "
   ]
  },
  {
   "cell_type": "markdown",
   "metadata": {},
   "source": [
    "## Get Today's Date"
   ]
  },
  {
   "cell_type": "code",
   "execution_count": null,
   "metadata": {},
   "outputs": [],
   "source": [
    "# Imports\n",
    "from datetime import date"
   ]
  },
  {
   "cell_type": "code",
   "execution_count": null,
   "metadata": {},
   "outputs": [],
   "source": [
    "# Get today parts as integers\n",
    "today = date.today()\n",
    "year = today.year\n",
    "month = 4#today.month\n",
    "day = 2#today.day\n",
    "\n",
    "# Add leading 0 as format for day and month if single digit\n",
    "date_formats = {}\n",
    "date_formats['day'] = [str(day)] \n",
    "if day < 9:\n",
    "  date_formats['day'].append('0{}'.format(day))\n",
    "\n",
    "date_formats['month'] = [str(month)] \n",
    "if month < 9: \n",
    "  date_formats['month'].append('0{}'.format(month))\n",
    "  \n",
    "# Get full year and last two digits of the year \n",
    "date_formats['year'] = [str(year), str(year % 100)]"
   ]
  },
  {
   "cell_type": "code",
   "execution_count": null,
   "metadata": {},
   "outputs": [],
   "source": [
    "# Create different forms of expressing today's date\n",
    "forms = []\n",
    "for pos_d in range(len(date_formats['day'])):\n",
    "    ref_d = ('day', pos_d)\n",
    "    for pos_m in range(len(date_formats['month'])):\n",
    "        ref_m = ('month', pos_m)\n",
    "        # Only day and month\n",
    "        forms.append([ref_d, ref_m])\n",
    "        forms.append([ref_m, ref_d])\n",
    "        # Now consider year (always at front or end)\n",
    "        for pos_y in range(len(date_formats['year'])):\n",
    "            ref_y = ('year', pos_y)\n",
    "            # Full day, month, and year (year is never in the middle)\n",
    "            forms.append([ref_y, ref_m, ref_d])\n",
    "            forms.append([ref_y, ref_d, ref_m])\n",
    "            forms.append([ref_d, ref_m, ref_y])\n",
    "            forms.append([ref_m, ref_d, ref_y])"
   ]
  },
  {
   "cell_type": "code",
   "execution_count": null,
   "metadata": {},
   "outputs": [],
   "source": [
    "def to_str(form):\n",
    "    # Convert to string of digits (no spacers)\n",
    "    date_str = ''\n",
    "    for part, pos in form:\n",
    "        date_str += date_formats[part][pos] \n",
    "    return date_str\n",
    "\n",
    "def to_int(form):\n",
    "    return int(to_str(form))"
   ]
  },
  {
   "cell_type": "markdown",
   "metadata": {},
   "source": [
    "## Test for Patterns"
   ]
  },
  {
   "cell_type": "markdown",
   "metadata": {},
   "source": [
    "### Prime number test"
   ]
  },
  {
   "cell_type": "code",
   "execution_count": null,
   "metadata": {},
   "outputs": [],
   "source": [
    "# Test to find if number is prime\n",
    "# TODO: To improve speed, keep an ordered list of prime numbers and search list\n",
    "#       to see if number is prime. Reduces time to O(log(n)) instead of O(n).\n",
    "def is_prime(n):\n",
    "    '''\n",
    "        Input: integer\n",
    "        Output: boolean \n",
    "            True if prime else it returns False\n",
    "            \n",
    "        Will check every positive integer smaller than n to see if n is \n",
    "        divisible by another number. If it is not divisible by a smaller \n",
    "        positive integer (not including 1), then n must be prime. Note that \n",
    "        large numbers can take a very long time (32010529 takes about 10s).\n",
    "        \n",
    "    '''\n",
    "    # Start at lowest prime\n",
    "    i = 2\n",
    "    # Test if any smaller integer divides number  \n",
    "    while i < n/2:\n",
    "        if (n % i) == 0:\n",
    "            return(False)\n",
    "        i += 1\n",
    "    # while-loop completes when it reaches n itself (is prime) \n",
    "    return(True)"
   ]
  },
  {
   "cell_type": "code",
   "execution_count": null,
   "metadata": {},
   "outputs": [],
   "source": [
    "def test_prime_dates(all_forms):\n",
    "    '''\n",
    "        Input: list of date forms\n",
    "        Output: list of tuples\n",
    "            Each element is a tuple of the date's integer form and date's \n",
    "            form.\n",
    "    '''\n",
    "    # List of tuples (integer representation , form)\n",
    "    forms_prime = []\n",
    "    # Keep a set of forms already tested (integers)\n",
    "    forms_tested = set()\n",
    "    for form in all_forms:\n",
    "        # Convert form to integer\n",
    "        form_int = to_int(form)\n",
    "        # Check that form wasn't already tested\n",
    "        if form_int in forms_tested:\n",
    "            continue\n",
    "        if is_prime(form_int):\n",
    "            # Record the form's integer and form together\n",
    "            forms_prime.append((form_int,form))\n",
    "        # Add integer to list of tested forms\n",
    "        forms_tested.add(form_int)\n",
    "    return forms_prime"
   ]
  },
  {
   "cell_type": "markdown",
   "metadata": {},
   "source": [
    "### Palindrome Test"
   ]
  },
  {
   "cell_type": "code",
   "execution_count": null,
   "metadata": {},
   "outputs": [],
   "source": [
    "# Test to find if string is a palindrome\n",
    "def is_palindrome(s):\n",
    "    '''\n",
    "        Input: string of integers\n",
    "        Output: boolean \n",
    "            True if palindrom else returns False        \n",
    "    '''\n",
    "    # We only need to test for half the charcacters (middle doesn't matter)\n",
    "    half = range(int(len(s)/2))\n",
    "    # Test starts with most outer\n",
    "    for i in half: \n",
    "        # If the next 2 outer characters don't match, not a palindrome\n",
    "        # Use reversed list to find charcter from the back\n",
    "        if (s[i] != s[::-1][i]):\n",
    "            return False\n",
    "        # Since we never exited, must be a palindrome\n",
    "    return True"
   ]
  },
  {
   "cell_type": "code",
   "execution_count": null,
   "metadata": {},
   "outputs": [],
   "source": [
    "def test_palindrome_dates(all_forms):\n",
    "    '''\n",
    "        Input: list of date forms\n",
    "        Output: list of tuples\n",
    "            Each element is a tuple of the date's palindrome form \n",
    "            and date's form.\n",
    "    '''\n",
    "    forms_palindrome = []\n",
    "    for f in all_forms:\n",
    "        # Convert to string of digits (order matters)\n",
    "        form_str = to_str(f)\n",
    "        if is_palindrome(form_str):\n",
    "            # Create representation to display as palindrome\n",
    "            # Dash in middle if even; if odd dashes around mid-digit\n",
    "            form_length = len(form_str)\n",
    "            if (form_length % 2) == 0:\n",
    "                form_final_str = '{}-{}'.format(\n",
    "                    form_str[:int(form_length/2)],\n",
    "                    form_str[int(form_length/2):]\n",
    "                )\n",
    "            else:\n",
    "                form_final_str = '{}-{}-{}'.format( \n",
    "                    form_str[:int(form_length/2)],\n",
    "                    form_str[int(form_length/2)],\n",
    "                    form_str[int(form_length/2 + 1):]\n",
    "                )\n",
    "            forms_palindrome.append((form_str, f))\n",
    "    return forms_palindrome            "
   ]
  },
  {
   "cell_type": "markdown",
   "metadata": {},
   "source": [
    "## Create Tweet"
   ]
  },
  {
   "cell_type": "markdown",
   "metadata": {},
   "source": [
    "### Perform Tests"
   ]
  },
  {
   "cell_type": "code",
   "execution_count": null,
   "metadata": {},
   "outputs": [],
   "source": [
    "# Keys that reference each pattern test\n",
    "key_primes = 'prime_date'\n",
    "key_palindromes = 'palindrome_date'"
   ]
  },
  {
   "cell_type": "code",
   "execution_count": null,
   "metadata": {},
   "outputs": [],
   "source": [
    "mathy_dates = {}\n",
    "# Test for prime date\n",
    "mathy_dates[key_primes] = test_prime_dates(forms)\n",
    "# Test for palindrome date\n",
    "mathy_dates[key_palindromes] = test_palindrome_dates(forms)"
   ]
  },
  {
   "cell_type": "markdown",
   "metadata": {},
   "source": [
    "### Create Tweet"
   ]
  },
  {
   "cell_type": "markdown",
   "metadata": {},
   "source": [
    "#### Methods to create part of the tweet"
   ]
  },
  {
   "cell_type": "code",
   "execution_count": null,
   "metadata": {},
   "outputs": [],
   "source": [
    "# Create tweet part for prime dates\n",
    "def create_tweet_prime(dates, key):\n",
    "    description = {'description':'', 'text':'', 'length':0}\n",
    "    # Test if a prime date was found\n",
    "    if len(dates[key]) != 0:\n",
    "        # Use hash tag\n",
    "        hashtag_primes = '#PrimeDate'\n",
    "        # Get list of primes\n",
    "        primes = [str(prime) for prime,_ in mathy_dates[key_primes]]\n",
    "        string_of_primes = ', '.join(primes)\n",
    "        # Form full tweet section\n",
    "        desc_primes = '{}\\n{}'.format(hashtag_primes, string_of_primes)\n",
    "        description['text'] = desc_primes\n",
    "        description['length'] = len(desc_primes)\n",
    "        \n",
    "    return description\n",
    "\n",
    "# Create tweet part for prime dates\n",
    "def create_tweet_palindrome(dates, key):\n",
    "    description = {'description':'', 'text':'', 'length':0}\n",
    "    # Test if a palindrome date was found\n",
    "    if len(dates[key]) != 0:\n",
    "        # Use hash tag\n",
    "        hashtag_pals = '#PalindromeDate'\n",
    "        # Get list of palindromes\n",
    "        palindromes = [pstr for pstr,_ in mathy_dates[key_palindromes]]\n",
    "        string_of_pals = ', '.join(palindromes)\n",
    "        # Form full tweet section\n",
    "        desc_pals = '{}\\n{}'.format(hashtag_pals, string_of_pals)\n",
    "        description['text'] = desc_pals\n",
    "        description['length'] = len(desc_pals)\n",
    "        \n",
    "    return description"
   ]
  },
  {
   "cell_type": "markdown",
   "metadata": {},
   "source": [
    "#### Writing the Tweet"
   ]
  },
  {
   "cell_type": "code",
   "execution_count": null,
   "metadata": {},
   "outputs": [],
   "source": [
    "tweet = []\n",
    "# First part of the tweet\n",
    "header = ('Today is {d} {month} {y}! Below are the mathy patterns for the day:'\n",
    "            .format(d=day, month=today.strftime(\"%b\"), y=year))\n",
    "tweet.append(header)\n",
    "tweet_length = len(header)"
   ]
  },
  {
   "cell_type": "code",
   "execution_count": null,
   "metadata": {},
   "outputs": [],
   "source": [
    "# Get prime tweet\n",
    "descr = create_tweet_prime(mathy_dates, key_primes)\n",
    "if descr['length'] > 0:\n",
    "    tweet.append(descr['text'])\n",
    "    tweet_length += descr['length']\n",
    "\n",
    "# Get palindrome tweet\n",
    "descr = create_tweet_palindrome(mathy_dates, key_palindromes)\n",
    "if descr['length'] > 0:\n",
    "    tweet.append(descr['text'])\n",
    "    tweet_length += descr['length']"
   ]
  },
  {
   "cell_type": "code",
   "execution_count": null,
   "metadata": {},
   "outputs": [],
   "source": [
    "# Finally combine tweet together\n",
    "if len(tweet) > 1: # not just the header\n",
    "    print(tweet)\n",
    "    tweet = '\\n'.join(tweet)\n",
    "else:\n",
    "    tweet = ('Today is {d} {month} {y}! Unfortunately I coudn\\'t find any ' \n",
    "             'mathy patterns for today :( But check in tomorrow!'\n",
    "            .format(d=day, month=today.strftime(\"%b\"), y=year))"
   ]
  },
  {
   "cell_type": "code",
   "execution_count": null,
   "metadata": {},
   "outputs": [],
   "source": [
    "print(tweet)"
   ]
  }
 ],
 "metadata": {
  "celltoolbar": "Raw Cell Format",
  "kernelspec": {
   "display_name": "Python 3",
   "language": "python",
   "name": "python3"
  },
  "language_info": {
   "codemirror_mode": {
    "name": "ipython",
    "version": 3
   },
   "file_extension": ".py",
   "mimetype": "text/x-python",
   "name": "python",
   "nbconvert_exporter": "python",
   "pygments_lexer": "ipython3",
   "version": "3.5.2"
  }
 },
 "nbformat": 4,
 "nbformat_minor": 2
}
