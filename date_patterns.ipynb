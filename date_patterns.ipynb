{
 "cells": [
  {
   "cell_type": "markdown",
   "metadata": {},
   "source": [
    "# Mathematical Date Patterns "
   ]
  },
  {
   "cell_type": "markdown",
   "metadata": {},
   "source": [
    "## Get Today's Date"
   ]
  },
  {
   "cell_type": "code",
   "execution_count": null,
   "metadata": {},
   "outputs": [],
   "source": [
    "# Imports\n",
    "from datetime import date"
   ]
  },
  {
   "cell_type": "code",
   "execution_count": null,
   "metadata": {},
   "outputs": [],
   "source": [
    "# Get today parts as integers\n",
    "today = date.today()\n",
    "year = today.year\n",
    "month = today.month\n",
    "day = today.day\n",
    "\n",
    "# Add leading 0 as format for day and month if single digit\n",
    "date_formats = {}\n",
    "date_formats['day'] = [str(day)] \n",
    "if day < 9:\n",
    "  date_formats['day'].append('0{}'.format(day))\n",
    "\n",
    "date_formats['month'] = [str(month)] \n",
    "if month < 9: \n",
    "  date_formats['month'].append('0{}'.format(month))\n",
    "  \n",
    "# Get full year and last two digits of the year \n",
    "date_formats['year'] = [str(year), str(year % 100)]"
   ]
  },
  {
   "cell_type": "code",
   "execution_count": null,
   "metadata": {},
   "outputs": [],
   "source": [
    "# Create different forms of expressing today's date\n",
    "forms = []\n",
    "for pos_d in range(len(date_formats['day'])):\n",
    "    ref_d = ('day', pos_d)\n",
    "    for pos_m in range(len(date_formats['month'])):\n",
    "        ref_m = ('month', pos_m)\n",
    "        # Only day and month\n",
    "        forms.append([ref_d, ref_m])\n",
    "        forms.append([ref_m, ref_d])\n",
    "        # Now consider year (always at front or end)\n",
    "        for pos_y in range(len(date_formats['year'])):\n",
    "            ref_y = ('year', pos_y)\n",
    "            # Full day, month, and year (year is never in the middle)\n",
    "            forms.append([ref_y, ref_m, ref_d])\n",
    "            forms.append([ref_y, ref_d, ref_m])\n",
    "            forms.append([ref_d, ref_m, ref_y])\n",
    "            forms.append([ref_m, ref_d, ref_y])"
   ]
  },
  {
   "cell_type": "code",
   "execution_count": null,
   "metadata": {},
   "outputs": [],
   "source": [
    "def to_str(form):\n",
    "    # Convert to string of digits (no spacers)\n",
    "    date_str = ''\n",
    "    for part, pos in form:\n",
    "        date_str += date_formats[part][pos] \n",
    "    return date_str\n",
    "\n",
    "def to_int(form):\n",
    "    return int(to_str(form))"
   ]
  },
  {
   "cell_type": "markdown",
   "metadata": {},
   "source": [
    "## Test for Patterns"
   ]
  },
  {
   "cell_type": "markdown",
   "metadata": {},
   "source": [
    "### Prime number test"
   ]
  },
  {
   "cell_type": "code",
   "execution_count": null,
   "metadata": {},
   "outputs": [],
   "source": [
    "# Test to find if number is prime\n",
    "# TODO: To improve speed, keep an ordered list of prime numbers and search list\n",
    "#       to see if number is prime. Reduces time to O(log(n)) instead of O(n).\n",
    "def is_prime(n):\n",
    "    '''\n",
    "        Input: integer\n",
    "        Output: boolean \n",
    "            True if prime else it returns False\n",
    "            \n",
    "        Will check every positive integer smaller than n to see if n is \n",
    "        divisible by another number. If it is not divisible by a smaller \n",
    "        positive integer (not including 1), then n must be prime. Note that \n",
    "        large numbers can take a very long time (32010529 takes about 10s).\n",
    "        \n",
    "    '''\n",
    "    # Start at lowest prime\n",
    "    i = 2\n",
    "    # Test if any smaller integer divides number  \n",
    "    while i < n/2:\n",
    "        if (n % i) == 0:\n",
    "            return(False)\n",
    "        i += 1\n",
    "    # while-loop completes when it reaches n itself (is prime) \n",
    "    return(True)"
   ]
  },
  {
   "cell_type": "code",
   "execution_count": null,
   "metadata": {},
   "outputs": [],
   "source": [
    "def test_prime_dates(all_forms):\n",
    "    '''\n",
    "        Input: list of date forms\n",
    "        Output: list of tuples\n",
    "            Each element is a tuple of the date's integer form and the \n",
    "            date's form.\n",
    "    '''\n",
    "    # List of tuples (integer representation , form)\n",
    "    forms_prime = []\n",
    "    # Keep a set of forms already tested (integers)\n",
    "    forms_tested = set()\n",
    "    for form in all_forms:\n",
    "        # Convert form to integer\n",
    "        form_int = to_int(form)\n",
    "        # Check that form wasn't already tested\n",
    "        if form_int in forms_tested:\n",
    "            continue\n",
    "        if is_prime(form_int):\n",
    "            # Record the form's integer and form together\n",
    "            forms_prime.append((form_int,form))\n",
    "        # Add integer to list of tested forms\n",
    "        forms_tested.add(form_int)\n",
    "    return forms_prime"
   ]
  }
 ],
 "metadata": {
  "celltoolbar": "Raw Cell Format",
  "kernelspec": {
   "display_name": "Python 3",
   "language": "python",
   "name": "python3"
  },
  "language_info": {
   "codemirror_mode": {
    "name": "ipython",
    "version": 3
   },
   "file_extension": ".py",
   "mimetype": "text/x-python",
   "name": "python",
   "nbconvert_exporter": "python",
   "pygments_lexer": "ipython3",
   "version": "3.5.2"
  }
 },
 "nbformat": 4,
 "nbformat_minor": 2
}
